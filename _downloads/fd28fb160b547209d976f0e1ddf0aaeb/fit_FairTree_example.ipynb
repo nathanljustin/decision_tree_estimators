{
  "cells": [
    {
      "cell_type": "code",
      "execution_count": null,
      "metadata": {
        "collapsed": false
      },
      "outputs": [],
      "source": [
        "%matplotlib inline"
      ]
    },
    {
      "cell_type": "markdown",
      "metadata": {},
      "source": [
        "\n# FairTree Fit Example\n\nAn example of fitting a FairTree decision tree using :class:`trees.FairTree.FairTreeClassifier`\n"
      ]
    },
    {
      "cell_type": "code",
      "execution_count": null,
      "metadata": {
        "collapsed": false
      },
      "outputs": [],
      "source": [
        "import pandas as pd\nfrom trees.FairTree import FairTreeClassifier\n\n\ndata_train = pd.read_csv(\"./data/compas/compas_train_1.csv\")\ndat_train_enc = pd.read_csv(\"./data/compas/compas_train_enc_1.csv\") #This is one-hot encoded version of data_train where every column is binary\n\ndata_test = pd.read_csv(\"./data/compas/compas_test_1.csv\")\ndat_test_enc = pd.read_csv(\"./data/compas/compas_test_enc_1.csv\")\n\nbranching_features = [\n        \"race.1\",\n        \"race.2\",\n        \"race.3\",\n        \"race.4\",\n        \"age_cat.1\",\n        \"age_cat.2\",\n        \"age_cat.3\",\n        \"sex.1\",\n        \"priors_count.1\",\n        \"priors_count.2\",\n        \"priors_count.3\",\n        \"priors_count.4\",\n        \"c_charge_degree.1\",\n        \"length_of_stay.1\",\n        \"length_of_stay.2\",\n        \"length_of_stay.3\",\n        \"length_of_stay.4\",\n        \"length_of_stay.5\",\n    ]\n\nX_train = dat_train_enc[ branching_features]\ny_train = dat_train_enc[[\"target\"]]\nP_train = data_train[[\"race\", \"sex\"]]  # P could have multiple columns or only one\nl_train = data_train[[\"priors_count\"]]  # For now we assume that L has only a single column\n\nX_test = dat_test_enc[ branching_features]\ny_test = dat_test_enc[[\"target\"]]\nP_test = data_test[[\"race\", \"sex\"]]  \nl_test = data_test[[\"priors_count\"]] \n\n\nfcl = FairTreeClassifier(\n    positive_class=1,\n    depth=1,\n    _lambda=0,\n    time_limit=10,\n    fairness_type=\"CSP\",\n    fairness_bound=1,\n    num_threads=1,\n    obj_mode = 'balance'\n)\n\nfcl_obj = fcl.fit(X_train, y_train, P_train, l_train)\npred_test = fcl.predict(X_test)\n# sp_val = fcl_obj.get_SP(P_test, y_test)\n# csp_val = fcl_obj.get_CSP(P_test, l_test, y_test)\n# eq_val = fcl_obj.get_EqOdds(P_test, y_test, pred_test)\n# ceq_val = fcl_obj.get_CondEqOdds(P_test, l_test, y_test, pred_test)"
      ]
    }
  ],
  "metadata": {
    "kernelspec": {
      "display_name": "Python 3",
      "language": "python",
      "name": "python3"
    },
    "language_info": {
      "codemirror_mode": {
        "name": "ipython",
        "version": 3
      },
      "file_extension": ".py",
      "mimetype": "text/x-python",
      "name": "python",
      "nbconvert_exporter": "python",
      "pygments_lexer": "ipython3",
      "version": "3.10.2"
    }
  },
  "nbformat": 4,
  "nbformat_minor": 0
}