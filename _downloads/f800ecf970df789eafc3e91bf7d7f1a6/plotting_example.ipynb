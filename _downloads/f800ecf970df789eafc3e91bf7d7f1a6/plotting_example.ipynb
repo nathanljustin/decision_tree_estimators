{
  "cells": [
    {
      "cell_type": "code",
      "execution_count": null,
      "metadata": {
        "collapsed": false
      },
      "outputs": [],
      "source": [
        "%matplotlib inline"
      ]
    },
    {
      "cell_type": "markdown",
      "metadata": {},
      "source": [
        "\n# Tree Plotting Example\n\nAn example of plotting a fit decision tree using :class:`odtlearn.utils.TreePlotter.TreePlotter`\n"
      ]
    },
    {
      "cell_type": "code",
      "execution_count": null,
      "metadata": {
        "collapsed": false
      },
      "outputs": [],
      "source": [
        "import pandas as pd\nimport numpy as np\nfrom sklearn.model_selection import train_test_split\nfrom odtlearn.StrongTree import StrongTreeClassifier\nfrom odtlearn.RobustTree import RobustTreeClassifier\nimport matplotlib.pyplot as plt\n\n\ndata = pd.read_csv(\"data/balance-scale_enc.csv\")\ny = data.pop(\"target\")\n\nX_train, X_test, y_train, y_test = train_test_split(\n    data, y, test_size=0.33, random_state=42\n)\n\n\nstcl = StrongTreeClassifier(\n    depth=4,\n    time_limit=5,\n    _lambda=0.51,\n    benders_oct=True,\n    num_threads=None,\n    obj_mode=\"acc\",\n)\n\nstcl.fit(X_train, y_train)\n\nstcl.plot_tree()\nplt.show()"
      ]
    },
    {
      "cell_type": "code",
      "execution_count": null,
      "metadata": {
        "collapsed": false
      },
      "outputs": [],
      "source": [
        "X = np.array(\n    [\n        [0, 0],\n        [0, 0],\n        [0, 0],\n        [0, 0],\n        [0, 0],\n        [0, 0],\n        [0, 0],\n        [1, 0],\n        [1, 0],\n        [1, 0],\n        [1, 1],\n        [0, 1],\n        [0, 1],\n    ]\n)\ny = np.array([0, 0, 0, 0, 0, 0, 0, 1, 1, 1, 0, 1, 1])\n\ncosts = np.array(\n    [\n        [1, 4],\n        [1, 4],\n        [1, 4],\n        [1, 4],\n        [1, 4],\n        [4, 4],\n        [4, 4],\n        [4, 4],\n        [4, 4],\n        [4, 4],\n        [4, 1],\n        [4, 4],\n        [4, 4],\n    ]\n)\n\n\nrobust_classifier = RobustTreeClassifier(\n    depth=2,\n    time_limit=10,\n)\n\nrobust_classifier.fit(X, y, costs=costs, budget=5, verbose=False)\nrobust_classifier.print_tree()\n\nrobust_classifier.plot_tree()\nplt.show()"
      ]
    }
  ],
  "metadata": {
    "kernelspec": {
      "display_name": "Python 3",
      "language": "python",
      "name": "python3"
    },
    "language_info": {
      "codemirror_mode": {
        "name": "ipython",
        "version": 3
      },
      "file_extension": ".py",
      "mimetype": "text/x-python",
      "name": "python",
      "nbconvert_exporter": "python",
      "pygments_lexer": "ipython3",
      "version": "3.8.2"
    }
  },
  "nbformat": 4,
  "nbformat_minor": 0
}