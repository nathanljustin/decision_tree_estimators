{
  "cells": [
    {
      "cell_type": "code",
      "execution_count": null,
      "metadata": {
        "collapsed": false
      },
      "outputs": [],
      "source": [
        "%matplotlib inline"
      ]
    },
    {
      "cell_type": "markdown",
      "metadata": {},
      "source": [
        "\n# StrongTree Fit Example\n\nAn example of fitting a StrongTree decision tree using :class:`trees.StrongTree.StrongTreeClassifier`\n"
      ]
    },
    {
      "cell_type": "code",
      "execution_count": null,
      "metadata": {
        "collapsed": false
      },
      "outputs": [],
      "source": [
        "from pickle import TRUE\nimport pandas as pd\nimport numpy as np\nfrom sklearn.model_selection import train_test_split\nfrom trees.StrongTree import StrongTreeClassifier \n\ndata = pd.read_csv(\"./data/balance-scale_enc.csv\")\ny = data.pop(\"target\")\n\nX_train, X_test, y_train, y_test = train_test_split(\n    data, y, test_size=0.33, random_state=42\n)\n\nstcl = StrongTreeClassifier(\n    depth = 1, \n    time_limit = 60,\n    _lambda = 0,\n    benders_oct= False, \n    num_threads=None, \n    obj_mode = 'acc'\n)\n\nstcl.fit(X_train, y_train, verbose=True)\nstcl.print_tree()\ntest_pred = stcl.predict(X_test)\nprint('The out-of-sample acc is {}'.format(np.sum(test_pred==y_test)/y_test.shape[0]))"
      ]
    }
  ],
  "metadata": {
    "kernelspec": {
      "display_name": "Python 3",
      "language": "python",
      "name": "python3"
    },
    "language_info": {
      "codemirror_mode": {
        "name": "ipython",
        "version": 3
      },
      "file_extension": ".py",
      "mimetype": "text/x-python",
      "name": "python",
      "nbconvert_exporter": "python",
      "pygments_lexer": "ipython3",
      "version": "3.10.2"
    }
  },
  "nbformat": 4,
  "nbformat_minor": 0
}